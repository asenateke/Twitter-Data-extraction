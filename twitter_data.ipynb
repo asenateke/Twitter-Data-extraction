{
 "cells": [
  {
   "cell_type": "code",
   "execution_count": 1,
   "metadata": {},
   "outputs": [
    {
     "name": "stdout",
     "output_type": "stream",
     "text": [
      "Requirement already satisfied: tweepy in c:\\users\\ase\\anaconda3\\lib\\site-packages (3.8.0)\n",
      "Requirement already satisfied: six>=1.10.0 in c:\\users\\ase\\anaconda3\\lib\\site-packages (from tweepy) (1.12.0)\n",
      "Requirement already satisfied: requests>=2.11.1 in c:\\users\\ase\\anaconda3\\lib\\site-packages (from tweepy) (2.22.0)\n",
      "Requirement already satisfied: PySocks>=1.5.7 in c:\\users\\ase\\anaconda3\\lib\\site-packages (from tweepy) (1.7.0)\n",
      "Requirement already satisfied: requests-oauthlib>=0.7.0 in c:\\users\\ase\\anaconda3\\lib\\site-packages (from tweepy) (1.2.0)\n",
      "Requirement already satisfied: urllib3!=1.25.0,!=1.25.1,<1.26,>=1.21.1 in c:\\users\\ase\\anaconda3\\lib\\site-packages (from requests>=2.11.1->tweepy) (1.24.2)\n",
      "Requirement already satisfied: certifi>=2017.4.17 in c:\\users\\ase\\anaconda3\\lib\\site-packages (from requests>=2.11.1->tweepy) (2019.6.16)\n",
      "Requirement already satisfied: chardet<3.1.0,>=3.0.2 in c:\\users\\ase\\anaconda3\\lib\\site-packages (from requests>=2.11.1->tweepy) (3.0.4)\n",
      "Requirement already satisfied: idna<2.9,>=2.5 in c:\\users\\ase\\anaconda3\\lib\\site-packages (from requests>=2.11.1->tweepy) (2.8)\n",
      "Requirement already satisfied: oauthlib>=3.0.0 in c:\\users\\ase\\anaconda3\\lib\\site-packages (from requests-oauthlib>=0.7.0->tweepy) (3.1.0)\n"
     ]
    }
   ],
   "source": [
    "from warnings import filterwarnings\n",
    "filterwarnings('ignore')\n",
    "!pip install tweepy"
   ]
  },
  {
   "cell_type": "markdown",
   "metadata": {},
   "source": [
    "### Twitter Erişim"
   ]
  },
  {
   "cell_type": "code",
   "execution_count": 2,
   "metadata": {},
   "outputs": [],
   "source": [
    "import tweepy, codecs\n",
    "\n",
    "\n",
    "consumer_key = 'xxxxxxxxxxxxxxxxxxxxxxxxxxxx'\n",
    "consumer_secret = 'xxxxxxxxxxxxxxxxxxxxxxxxxxxxxxxxxxxxxxxxx'\n",
    "access_token = 'xxxxxxxxxxxxxxxxxxxxxxxxxxxx'\n",
    "access_token_secret = 'xxxxxxxxxxxxxxxxxxxxxxxxxxxxxxx'\n",
    "\n",
    "\n",
    "auth = tweepy.OAuthHandler(consumer_key, consumer_secret)\n",
    "auth.set_access_token(access_token, access_token_secret)\n",
    "api = tweepy.API(auth)"
   ]
  },
  {
   "cell_type": "markdown",
   "metadata": {},
   "source": [
    "### Veri Çekme"
   ]
  },
  {
   "cell_type": "code",
   "execution_count": 4,
   "metadata": {
    "scrolled": false
   },
   "outputs": [],
   "source": [
    "from  openpyxl import *\n",
    "unlist=[\"beinsport\", \"arena\", \"galatasaray\",\"maç\",\"stat\", \"stadyum\", \"turktelekom_tk\", \"bahis\", \"basketbol\", \"futbol\", \"voleybol\", \"@haberglobal\"]\n",
    "book = load_workbook(\"twitter_data.xlsx\")\n",
    "sheet=book.active\n",
    "sheet_end=sheet.max_row\n",
    "tags =[\"ttnet\", \"turktelekom\",\"türk telekom\", \"silsupur\",\"silsüpür\", \"avea\", \"tivibu\"]\n",
    "for tag in tags:\n",
    "    results = api.search ( q = tag, lang = \"tr\", result_type = \"recent\", count = 1000, tweet_mode='extended')\n",
    "    for doc in results:  \n",
    "        c = True\n",
    "        for row in sheet.iter_rows(min_row=2, min_col=2 ,max_row = sheet_end, max_col = 2):\n",
    "            for cell in row:\n",
    "                if cell.value == doc.full_text:\n",
    "                    c = False\n",
    "                    break     \n",
    "        if c: \n",
    "            if (doc.author.screen_name !=\"TTDestek\" ):\n",
    "                if any(item in doc.full_text.lower() for item in unlist) != True :\n",
    "                    sheet.append([doc.id, doc.full_text, doc.created_at, doc.favorite_count ,doc.retweet_count, doc.author.screen_name, doc.author.followers_count, doc.author.location,tag])\n",
    "book.save(\"twitter_data.xlsx\")\n",
    "book.close()\n",
    "    "
   ]
  },
  {
   "cell_type": "markdown",
   "metadata": {},
   "source": [
    "### Data Cleaning"
   ]
  },
  {
   "cell_type": "code",
   "execution_count": null,
   "metadata": {},
   "outputs": [],
   "source": [
    "#Define Preprocessing Functions\n",
    "\n",
    "#importing libraries\n",
    "from TurkishStemmer import TurkishStemmer\n",
    "import re\n",
    "\n",
    "def lowLetters(tweet):\n",
    "    return tweet.lower()\n",
    "\n",
    "def applyStemmer(word):\n",
    "    if word in kelime_kok_sozluk.keys():   \n",
    "        return kelime_kok_sozluk[word].split(\":\")[0]\n",
    "    else:\n",
    "        return TurkishStemmer().stem(word)\n",
    "\n",
    "#cleaning tweets\n",
    "def cleanTweet(tweet):\n",
    "    #removing usernames\n",
    "    tweet = re.sub('@[^\\s]+', '', tweet)\n",
    "    #removing hashtags\n",
    "    tweet = re.sub(r'#[^\\s]+', '', tweet)\n",
    "    #removing links\n",
    "    tweet = re.sub('((www\\.[^\\s]+)|(https?://[^\\s]+))', '', tweet)\n",
    "    #removing numeric characters\n",
    "    tweet = [\"\" if i.isnumeric() else i for i in tweet]\n",
    "    tweet = \"\".join(tweet)\n",
    "    #removing punctuation\n",
    "    tweet = re.sub(r'[^\\w\\s]',' ', tweet)\n",
    "    #removing single characters\n",
    "    tweet = re.sub(r'(?:^| )\\w(?:$| )', ' ', tweet)\n",
    "    #removing emojis\n",
    "    tweet = re.compile('[\\U00010000-\\U0010ffff]', flags=re.UNICODE).sub(r'', tweet)\n",
    "    return tweet"
   ]
  }
 ],
 "metadata": {
  "kernelspec": {
   "display_name": "Python 3",
   "language": "python",
   "name": "python3"
  },
  "language_info": {
   "codemirror_mode": {
    "name": "ipython",
    "version": 3
   },
   "file_extension": ".py",
   "mimetype": "text/x-python",
   "name": "python",
   "nbconvert_exporter": "python",
   "pygments_lexer": "ipython3",
   "version": "3.7.3"
  }
 },
 "nbformat": 4,
 "nbformat_minor": 2
}
